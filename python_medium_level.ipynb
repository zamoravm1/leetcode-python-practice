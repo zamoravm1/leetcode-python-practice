{
  "cells": [
    {
      "cell_type": "markdown",
      "metadata": {
        "id": "view-in-github",
        "colab_type": "text"
      },
      "source": [
        "<a href=\"https://colab.research.google.com/github/zamoravm1/leetcode-python-practice/blob/main/python_medium_level.ipynb\" target=\"_parent\"><img src=\"https://colab.research.google.com/assets/colab-badge.svg\" alt=\"Open In Colab\"/></a>"
      ]
    },
    {
      "cell_type": "markdown",
      "source": [
        "# Medium level"
      ],
      "metadata": {
        "id": "OcVzoTx6Iwrg"
      }
    },
    {
      "cell_type": "markdown",
      "source": [
        "You are given a large sample of integers in the range [0, 255]. Since the sample is so large, it is represented by an array count where count[k] is the number of times that k appears in the sample.\n",
        "\n",
        "Calculate the following statistics:\n",
        "\n",
        "minimum: The minimum element in the sample.\n",
        "maximum: The maximum element in the sample.\n",
        "mean: The average of the sample, calculated as the total sum of all elements divided by the total number of elements.\n",
        "median:\n",
        "If the sample has an odd number of elements, then the median is the middle element once the sample is sorted.\n",
        "If the sample has an even number of elements, then the median is the average of the two middle elements once the sample is sorted.\n",
        "mode: The number that appears the most in the sample. It is guaranteed to be unique.\n",
        "Return the statistics of the sample as an array of floating-point numbers [minimum, maximum, mean, median, mode]. Answers within 10-5 of the actual answer will be accepted."
      ],
      "metadata": {
        "id": "bQY-bCCHQI7g"
      }
    },
    {
      "cell_type": "code",
      "source": [
        "case1 = [0,1,3,4,0,0,0,0,0,0,0,0,0,0,0,0,0,0,0,0,0,0,0,0,0,0,0,0,0,0,0,0,0,0,0,0,0,0,0,0,0,0,0,0,0,0,0,0,0,0,0,0,0,0,0,0,0,0,0,0,0,0,0,0,0,0,0,0,0,0,0,0,0,0,0,0,0,0,0,0,0,0,0,0,0,0,0,0,0,0,0,0,0,0,0,0,0,0,0,0,0,0,0,0,0,0,0,0,0,0,0,0,0,0,0,0,0,0,0,0,0,0,0,0,0,0,0,0,0,0,0,0,0,0,0,0,0,0,0,0,0,0,0,0,0,0,0,0,0,0,0,0,0,0,0,0,0,0,0,0,0,0,0,0,0,0,0,0,0,0,0,0,0,0,0,0,0,0,0,0,0,0,0,0,0,0,0,0,0,0,0,0,0,0,0,0,0,0,0,0,0,0,0,0,0,0,0,0,0,0,0,0,0,0,0,0,0,0,0,0,0,0,0,0,0,0,0,0,0,0,0,0,0,0,0,0,0,0,0,0,0,0,0,0,0,0,0,0,0,0,0,0,0,0,0,0]"
      ],
      "metadata": {
        "id": "rqTRdRJ9I1_u"
      },
      "execution_count": 1,
      "outputs": []
    },
    {
      "cell_type": "code",
      "source": [
        "lst = [\"a\", \"b\", \"c\"]\n",
        "\n",
        "for i, x in enumerate(lst):\n",
        "    print(i, x)\n"
      ],
      "metadata": {
        "colab": {
          "base_uri": "https://localhost:8080/"
        },
        "id": "2VBNt1W_PgG2",
        "outputId": "9d5f6d4f-75f6-4f2b-99dd-6f4a2fe74097"
      },
      "execution_count": 7,
      "outputs": [
        {
          "output_type": "stream",
          "name": "stdout",
          "text": [
            "0 a\n",
            "1 b\n",
            "2 c\n"
          ]
        }
      ]
    },
    {
      "cell_type": "code",
      "source": [
        "from ast import IfExp\n",
        "from typing import List\n",
        "\n",
        "class Solution:\n",
        "\n",
        "    def min_by_index(self, lst):\n",
        "        for i,x in enumerate(lst):\n",
        "            if x != 0:\n",
        "                return i\n",
        "        return None\n",
        "\n",
        "    def max_by_index(self, lst):\n",
        "        for i in range(len(lst)-1,-1,-1):\n",
        "            if lst[i] != 0:\n",
        "                return i\n",
        "        return None\n",
        "\n",
        "    def mean_by_index(self,lst):\n",
        "        acum = 0\n",
        "        for i,x in enumerate(lst):\n",
        "            if x != 0:\n",
        "              acum += i*x\n",
        "\n",
        "        return acum/sum(lst)\n",
        "\n",
        "    def media_by_index(self, count):\n",
        "      n = sum(count)   # total sample size\n",
        "      mid1, mid2 = None, None\n",
        "\n",
        "      if n % 2 == 1:   # odd length\n",
        "          mid = (n + 1) // 2\n",
        "          cumulative = 0\n",
        "          for i, c in enumerate(count):\n",
        "              cumulative += c\n",
        "              if cumulative >= mid:\n",
        "                  return float(i)\n",
        "\n",
        "      else:            # even length\n",
        "          m1, m2 = n // 2, n // 2 + 1\n",
        "          cumulative = 0\n",
        "          val1, val2 = None, None\n",
        "          for i, c in enumerate(count):\n",
        "              cumulative += c\n",
        "              if val1 is None and cumulative >= m1:\n",
        "                  val1 = i\n",
        "              if val2 is None and cumulative >= m2:\n",
        "                  val2 = i\n",
        "                  break\n",
        "          return (val1 + val2) / 2.0\n",
        "          # entender la media mañana y luego reducir el tiempo de ejecución. entender la primera linea de este codigo y dominar google colab + github. se puede debaggear en google colab? si no, pasarme a visual studio code.\n",
        "\n",
        "\n",
        "    def mode_by_index(self,lst):\n",
        "      return lst.index(max(lst))\n",
        "\n",
        "    def sampleStats(self, count: List[int]) -> List[float]:\n",
        "        return [\n",
        "            self.min_by_index(count),                 # index 0\n",
        "            self.max_by_index(count),                 # index 1\n",
        "            self.mean_by_index(count),                # index 2 (mean)\n",
        "            self.media_by_index(count),         # index 3 (median)\n",
        "            self.mode_by_index(count)            # index 4 (mode)\n",
        "        ]"
      ],
      "metadata": {
        "id": "hm1-Xc8kJRsd"
      },
      "execution_count": 27,
      "outputs": []
    },
    {
      "cell_type": "code",
      "source": [
        "solution_instance = Solution()\n",
        "print(solution_instance.sampleStats(count=case1))"
      ],
      "metadata": {
        "colab": {
          "base_uri": "https://localhost:8080/"
        },
        "id": "xq2HH1FjLoYi",
        "outputId": "e1e2b2dd-bb41-49b0-ad75-dfaf3ad878b7"
      },
      "execution_count": 28,
      "outputs": [
        {
          "output_type": "stream",
          "name": "stdout",
          "text": [
            "[1, 3, 2.375, 2.5, 3]\n"
          ]
        }
      ]
    },
    {
      "cell_type": "code",
      "source": [
        "!cd leetcode-python-practice\n"
      ],
      "metadata": {
        "colab": {
          "base_uri": "https://localhost:8080/"
        },
        "id": "hl8GzeLQRfmx",
        "outputId": "8fc916b2-5658-4110-c33d-8f0d7cde8aae"
      },
      "execution_count": 29,
      "outputs": [
        {
          "output_type": "stream",
          "name": "stdout",
          "text": [
            "/bin/bash: line 1: cd: leetcode-python-practice: No such file or directory\n"
          ]
        }
      ]
    },
    {
      "cell_type": "code",
      "source": [],
      "metadata": {
        "id": "IDMBwDyBYy6m"
      },
      "execution_count": null,
      "outputs": []
    }
  ],
  "metadata": {
    "colab": {
      "name": "Te damos la bienvenida a Colab",
      "provenance": [],
      "include_colab_link": true
    },
    "kernelspec": {
      "display_name": "Python 3",
      "name": "python3"
    }
  },
  "nbformat": 4,
  "nbformat_minor": 0
}