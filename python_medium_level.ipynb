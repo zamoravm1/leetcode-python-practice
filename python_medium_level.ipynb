{
  "cells": [
    {
      "cell_type": "markdown",
      "metadata": {
        "id": "view-in-github",
        "colab_type": "text"
      },
      "source": [
        "<a href=\"https://colab.research.google.com/github/zamoravm1/leetcode-python-practice/blob/main/python_medium_level.ipynb\" target=\"_parent\"><img src=\"https://colab.research.google.com/assets/colab-badge.svg\" alt=\"Open In Colab\"/></a>"
      ]
    },
    {
      "cell_type": "markdown",
      "source": [
        "# Medium level"
      ],
      "metadata": {
        "id": "OcVzoTx6Iwrg"
      }
    },
    {
      "cell_type": "code",
      "source": [
        "case1 = [0,1,3,4,0,0,0,0,0,0,0,0,0,0,0,0,0,0,0,0,0,0,0,0,0,0,0,0,0,0,0,0,0,0,0,0,0,0,0,0,0,0,0,0,0,0,0,0,0,0,0,0,0,0,0,0,0,0,0,0,0,0,0,0,0,0,0,0,0,0,0,0,0,0,0,0,0,0,0,0,0,0,0,0,0,0,0,0,0,0,0,0,0,0,0,0,0,0,0,0,0,0,0,0,0,0,0,0,0,0,0,0,0,0,0,0,0,0,0,0,0,0,0,0,0,0,0,0,0,0,0,0,0,0,0,0,0,0,0,0,0,0,0,0,0,0,0,0,0,0,0,0,0,0,0,0,0,0,0,0,0,0,0,0,0,0,0,0,0,0,0,0,0,0,0,0,0,0,0,0,0,0,0,0,0,0,0,0,0,0,0,0,0,0,0,0,0,0,0,0,0,0,0,0,0,0,0,0,0,0,0,0,0,0,0,0,0,0,0,0,0,0,0,0,0,0,0,0,0,0,0,0,0,0,0,0,0,0,0,0,0,0,0,0,0,0,0,0,0,0,0,0,0,0,0,0]"
      ],
      "metadata": {
        "id": "rqTRdRJ9I1_u"
      },
      "execution_count": 1,
      "outputs": []
    },
    {
      "cell_type": "code",
      "source": [
        "from ast import IfExp\n",
        "from typing import List\n",
        "\n",
        "class Solution:\n",
        "\n",
        "    def min_by_index(self, lst):\n",
        "        for i,x in enumerate(lst):\n",
        "            if x != 0:\n",
        "                return i\n",
        "        return None\n",
        "\n",
        "    def max_by_index(self, lst):\n",
        "        for i in range(len(lst)-1,-1,-1):\n",
        "            if lst[i] != 0:\n",
        "                return i\n",
        "        return None\n",
        "\n",
        "    def mean_by_index(self,lst):\n",
        "        acum = 0\n",
        "        for i,x in enumerate(lst):\n",
        "            if x != 0:\n",
        "              acum += i*x\n",
        "\n",
        "        return acum/len(lst)\n",
        "\n",
        "    def media_by_index(self,lst):\n",
        "      acum=0\n",
        "      for i,x in enumerate(lst):\n",
        "        acum += x\n",
        "      print(acum)\n",
        "      acum2=0\n",
        "      if acum % 2 == 0: # even number\n",
        "        ind_media = acum/2\n",
        "        print(ind_media)\n",
        "        for i,x in enumerate(lst):\n",
        "          if acum2<ind_media:\n",
        "            print(lst[i],lst[i-1])\n",
        "            media = (lst[i]+lst[i-1])/2\n",
        "            return media\n",
        "          else:\n",
        "            acum2 += x\n",
        "      else:\n",
        "        ind_media = round(len(lst))\n",
        "        return(lst[ind_media])\n",
        "\n",
        "\n",
        "    def mode_by_index(self,lst):\n",
        "      return lst.index(max(lst))\n",
        "\n",
        "    def sampleStats(self, count: List[int]) -> List[float]:\n",
        "        return [\n",
        "            self.min_by_index(count),                 # index 0\n",
        "            self.max_by_index(count),                 # index 1\n",
        "            self.mean_by_index(count),                # index 2 (mean)\n",
        "            self.media_by_index(count),         # index 3 (median)\n",
        "            self.mode_by_index(count)            # index 4 (mode)\n",
        "        ]"
      ],
      "metadata": {
        "id": "hm1-Xc8kJRsd"
      },
      "execution_count": null,
      "outputs": []
    },
    {
      "cell_type": "code",
      "source": [
        "solution_instance = Solution()\n",
        "x = solution_instance.sampleStats(count=case1)\n",
        "print(x)"
      ],
      "metadata": {
        "colab": {
          "base_uri": "https://localhost:8080/"
        },
        "id": "xq2HH1FjLoYi",
        "outputId": "975129c0-2061-4f25-a349-711b33a39b27"
      },
      "execution_count": null,
      "outputs": [
        {
          "output_type": "stream",
          "name": "stdout",
          "text": [
            "8\n",
            "4.0\n",
            "0 0\n",
            "[1, 3, 0.07421875, 0.0, 3]\n"
          ]
        }
      ]
    },
    {
      "cell_type": "code",
      "source": [
        "!git push https://github.com/zamoravm1/leetcode-python-practice"
      ],
      "metadata": {
        "colab": {
          "base_uri": "https://localhost:8080/"
        },
        "id": "hl8GzeLQRfmx",
        "outputId": "87273de3-c47f-4c83-ef61-9dd82715d0c5"
      },
      "execution_count": null,
      "outputs": [
        {
          "output_type": "stream",
          "name": "stdout",
          "text": [
            "fatal: not a git repository (or any of the parent directories): .git\n"
          ]
        }
      ]
    }
  ],
  "metadata": {
    "colab": {
      "name": "Te damos la bienvenida a Colab",
      "provenance": [],
      "include_colab_link": true
    },
    "kernelspec": {
      "display_name": "Python 3",
      "name": "python3"
    }
  },
  "nbformat": 4,
  "nbformat_minor": 0
}